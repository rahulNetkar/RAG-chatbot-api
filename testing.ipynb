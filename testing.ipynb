{
 "cells": [
  {
   "cell_type": "code",
   "execution_count": 6,
   "id": "8e92c6c6-dad8-408a-bd07-2ec0b013aa95",
   "metadata": {},
   "outputs": [],
   "source": [
    "import chromadb\n",
    "from chromadb.config import Settings\n",
    "import google.generativeai as genai\n",
    "# from langchain.embeddings import SentenceTransformerEmbeddings\n",
    "import chromadb.utils.embedding_functions as embedding_functions\n",
    "from langchain.text_splitter import RecursiveCharacterTextSplitter\n",
    "from langchain_community.document_loaders import PyPDFLoader\n",
    "import PyPDF2 as pdf"
   ]
  },
  {
   "cell_type": "code",
   "execution_count": 3,
   "id": "589af729-6e0e-4203-a6eb-badae722b745",
   "metadata": {},
   "outputs": [],
   "source": [
    "api_key = \"YOUR_API_KEY\"\n",
    "genai.configure(api_key=api_key)"
   ]
  },
  {
   "cell_type": "code",
   "execution_count": 4,
   "id": "eed7b3b6-1da1-4f72-8606-4502e97e5cd1",
   "metadata": {},
   "outputs": [],
   "source": [
    "model = genai.GenerativeModel('gemini-pro')\n",
    "embeddings = embedding_functions.GoogleGenerativeAiEmbeddingFunction(api_key=api_key)"
   ]
  },
  {
   "cell_type": "code",
   "execution_count": null,
   "id": "813c299f-767e-4fb0-a95f-98bc338d8523",
   "metadata": {},
   "outputs": [],
   "source": []
  },
  {
   "cell_type": "code",
   "execution_count": 8,
   "id": "51c60fe3-c4e1-41a2-b416-1b2f809faa10",
   "metadata": {},
   "outputs": [],
   "source": [
    "chroma_client = chromadb.PersistentClient(path=\"db\")"
   ]
  },
  {
   "cell_type": "code",
   "execution_count": 36,
   "id": "6308b8c0-1db3-4e83-847b-2d49dc764ee9",
   "metadata": {},
   "outputs": [],
   "source": [
    "collection = chroma_client.create_collection(name=\"document_embedding\", embedding_function=embeddings)"
   ]
  },
  {
   "cell_type": "code",
   "execution_count": null,
   "id": "b0141a6a-45e4-4550-9c07-9609c790f07d",
   "metadata": {},
   "outputs": [],
   "source": []
  },
  {
   "cell_type": "code",
   "execution_count": 8,
   "id": "23f4deb9-961b-4038-a051-a215a52fad66",
   "metadata": {},
   "outputs": [],
   "source": [
    "loader = pdf.PdfReader(\"data/DBMS.pdf\")"
   ]
  },
  {
   "cell_type": "code",
   "execution_count": 24,
   "id": "f5b2b9dd-7cdb-42bc-a6b4-a6e2709ee7af",
   "metadata": {},
   "outputs": [],
   "source": [
    "text = ''\n",
    "for page in loader.pages:\n",
    "    text += page.extract_text()"
   ]
  },
  {
   "cell_type": "code",
   "execution_count": 26,
   "id": "d577120e-c982-4e7f-8933-8678766e1610",
   "metadata": {},
   "outputs": [
    {
     "data": {
      "text/plain": [
       "' Database  \\nThe database is a collection of inter -related data which '"
      ]
     },
     "execution_count": 26,
     "metadata": {},
     "output_type": "execute_result"
    }
   ],
   "source": []
  },
  {
   "cell_type": "code",
   "execution_count": 15,
   "id": "7256eee7-ebdd-4e9a-9954-9aaafafd755c",
   "metadata": {},
   "outputs": [],
   "source": [
    "text_splitter = RecursiveCharacterTextSplitter(chunk_size = 300, chunk_overlap = 20)"
   ]
  },
  {
   "cell_type": "code",
   "execution_count": 29,
   "id": "d37a5c01-4136-4d17-848a-6566cea743a8",
   "metadata": {},
   "outputs": [
    {
     "data": {
      "text/plain": [
       "list"
      ]
     },
     "execution_count": 29,
     "metadata": {},
     "output_type": "execute_result"
    }
   ],
   "source": [
    "docs = text_splitter.split_text(text=text)\n",
    "type(docs)"
   ]
  },
  {
   "cell_type": "code",
   "execution_count": 31,
   "id": "861949bf-c52f-4fea-b063-b7171aa60802",
   "metadata": {},
   "outputs": [
    {
     "data": {
      "text/plain": [
       "'DBMS  \\nNotes  \\n \\n \\n \\n \\nWhat is Database  \\nThe database is a collection of inter -related data which is used to retrieve, insert and \\ndelete the data efficiently. It is also used to organize the data in the form of a table, \\nschema, views, and reports, etc.'"
      ]
     },
     "execution_count": 31,
     "metadata": {},
     "output_type": "execute_result"
    }
   ],
   "source": [
    "docs[0]"
   ]
  },
  {
   "cell_type": "code",
   "execution_count": 37,
   "id": "fb52f314-481e-4504-8029-c8c212591a9f",
   "metadata": {},
   "outputs": [],
   "source": [
    "collection.add(\n",
    "    documents=[doc.page_content for doc in docs],\n",
    "    metadatas=[doc.metadata for doc in docs],\n",
    "    ids = [f\"id{i}\" for i in range(len(docs))]\n",
    ")"
   ]
  },
  {
   "cell_type": "code",
   "execution_count": 40,
   "id": "df4dcc42-554e-4309-aaf8-2483b770763d",
   "metadata": {},
   "outputs": [
    {
     "data": {
      "text/plain": [
       "{'ids': [['id0']],\n",
       " 'distances': [[0.2117851972579956]],\n",
       " 'metadatas': [[{'page': 0, 'source': 'data/DBMS.pdf'}]],\n",
       " 'embeddings': None,\n",
       " 'documents': [['DBMS  \\nNotes']],\n",
       " 'uris': None,\n",
       " 'data': None}"
      ]
     },
     "execution_count": 40,
     "metadata": {},
     "output_type": "execute_result"
    }
   ],
   "source": [
    "collection.query(\n",
    "    query_texts=[\"Advantages of DBMS\"],\n",
    "    n_results=1\n",
    ")"
   ]
  },
  {
   "cell_type": "code",
   "execution_count": null,
   "id": "bc62714d-f1fd-496a-9c29-c02177b28f77",
   "metadata": {},
   "outputs": [],
   "source": []
  },
  {
   "cell_type": "code",
   "execution_count": null,
   "id": "92341c91-d8e5-4f50-9550-293d7566c64e",
   "metadata": {},
   "outputs": [],
   "source": []
  },
  {
   "cell_type": "code",
   "execution_count": null,
   "id": "66016ac4-57f3-4143-bb8e-602a24ab68e7",
   "metadata": {},
   "outputs": [],
   "source": []
  },
  {
   "cell_type": "code",
   "execution_count": null,
   "id": "2ce87aaa-4deb-4618-9a0b-4511b3beb8c5",
   "metadata": {},
   "outputs": [],
   "source": []
  },
  {
   "cell_type": "code",
   "execution_count": null,
   "id": "f43768f7-fa62-42ef-ab6c-0bca5af5c9c3",
   "metadata": {},
   "outputs": [],
   "source": []
  },
  {
   "cell_type": "code",
   "execution_count": null,
   "id": "e9d40a37-2876-4b06-8a5d-0f8086061199",
   "metadata": {},
   "outputs": [],
   "source": []
  }
 ],
 "metadata": {
  "kernelspec": {
   "display_name": "Python 3 (ipykernel)",
   "language": "python",
   "name": "python3"
  },
  "language_info": {
   "codemirror_mode": {
    "name": "ipython",
    "version": 3
   },
   "file_extension": ".py",
   "mimetype": "text/x-python",
   "name": "python",
   "nbconvert_exporter": "python",
   "pygments_lexer": "ipython3",
   "version": "3.10.0"
  }
 },
 "nbformat": 4,
 "nbformat_minor": 5
}
